{
  "cells": [
    {
      "cell_type": "markdown",
      "metadata": {
        "id": "AcA5vu3PYeeI"
      },
      "source": [
        "# Weather Forecast Model\n",
        "*Modeling and Simulation in Python*\n",
        "\n",
        "Class: Math 245 - Spring 2022\n",
        "\n",
        "Team: Lillian Carrera, Sukhnandan Kaur, Alexandra Aucaquizhpi, Tasfia Hossain"
      ]
    },
    {
      "cell_type": "markdown",
      "metadata": {
        "id": "tbBuKgSAwiQe"
      },
      "source": [
        "## Project Statement"
      ]
    },
    {
      "cell_type": "markdown",
      "metadata": {
        "id": "xMmZr5RDs79O"
      },
      "source": [
        "Based on the historical weather conditions from April 29th to May 7th (2019-2022), what will the weather conditions be for the next 30 days in New York?\n",
        "\n",
        "\n",
        "\n"
      ]
    },
    {
      "cell_type": "markdown",
      "metadata": {
        "id": "BlsTxGxTwZT3"
      },
      "source": [
        "### Importing Key Packages\n",
        "\n",
        "Necessary imports for the simulation to run"
      ]
    },
    {
      "cell_type": "code",
      "execution_count": null,
      "metadata": {
        "id": "0ojFA2Lrt5oy",
        "outputId": "fd7f147b-7d8f-48fd-e56b-a0810a81460b",
        "colab": {
          "base_uri": "https://localhost:8080/"
        }
      },
      "outputs": [
        {
          "output_type": "stream",
          "name": "stdout",
          "text": [
            "Collecting pint\n",
            "  Downloading Pint-0.18-py2.py3-none-any.whl (209 kB)\n",
            "\u001b[?25l\r\u001b[K     |█▋                              | 10 kB 14.1 MB/s eta 0:00:01\r\u001b[K     |███▏                            | 20 kB 18.4 MB/s eta 0:00:01\r\u001b[K     |████▊                           | 30 kB 22.2 MB/s eta 0:00:01\r\u001b[K     |██████▎                         | 40 kB 17.5 MB/s eta 0:00:01\r\u001b[K     |███████▉                        | 51 kB 14.5 MB/s eta 0:00:01\r\u001b[K     |█████████▍                      | 61 kB 16.5 MB/s eta 0:00:01\r\u001b[K     |███████████                     | 71 kB 16.1 MB/s eta 0:00:01\r\u001b[K     |████████████▌                   | 81 kB 16.7 MB/s eta 0:00:01\r\u001b[K     |██████████████                  | 92 kB 18.1 MB/s eta 0:00:01\r\u001b[K     |███████████████▋                | 102 kB 17.4 MB/s eta 0:00:01\r\u001b[K     |█████████████████▏              | 112 kB 17.4 MB/s eta 0:00:01\r\u001b[K     |██████████████████▊             | 122 kB 17.4 MB/s eta 0:00:01\r\u001b[K     |████████████████████▎           | 133 kB 17.4 MB/s eta 0:00:01\r\u001b[K     |█████████████████████▉          | 143 kB 17.4 MB/s eta 0:00:01\r\u001b[K     |███████████████████████▍        | 153 kB 17.4 MB/s eta 0:00:01\r\u001b[K     |█████████████████████████       | 163 kB 17.4 MB/s eta 0:00:01\r\u001b[K     |██████████████████████████▋     | 174 kB 17.4 MB/s eta 0:00:01\r\u001b[K     |████████████████████████████▏   | 184 kB 17.4 MB/s eta 0:00:01\r\u001b[K     |█████████████████████████████▊  | 194 kB 17.4 MB/s eta 0:00:01\r\u001b[K     |███████████████████████████████▎| 204 kB 17.4 MB/s eta 0:00:01\r\u001b[K     |████████████████████████████████| 209 kB 17.4 MB/s \n",
            "\u001b[?25hRequirement already satisfied: importlib-metadata in /usr/local/lib/python3.7/dist-packages (from pint) (4.11.3)\n",
            "Requirement already satisfied: packaging in /usr/local/lib/python3.7/dist-packages (from pint) (21.3)\n",
            "Requirement already satisfied: zipp>=0.5 in /usr/local/lib/python3.7/dist-packages (from importlib-metadata->pint) (3.8.0)\n",
            "Requirement already satisfied: typing-extensions>=3.6.4 in /usr/local/lib/python3.7/dist-packages (from importlib-metadata->pint) (4.2.0)\n",
            "Requirement already satisfied: pyparsing!=3.0.5,>=2.0.2 in /usr/local/lib/python3.7/dist-packages (from packaging->pint) (3.0.9)\n",
            "Installing collected packages: pint\n",
            "Successfully installed pint-0.18\n"
          ]
        }
      ],
      "source": [
        "# Install Pint\n",
        "try:\n",
        "    import pint\n",
        "except ImportError:\n",
        "    !pip install pint"
      ]
    },
    {
      "cell_type": "code",
      "source": [
        "# Define download function. \n",
        "# Then download modsim.py if necessary\n",
        "\n",
        "\n",
        "from os.path import basename, exists\n",
        "cloudy = 0\n",
        "def download(url):\n",
        "    filename = basename(url)\n",
        "    if not exists(filename):\n",
        "        from urllib.request import urlretrieve\n",
        "        local, _ = urlretrieve(url, filename)\n",
        "        print('Downloaded ' + local)\n",
        "    \n",
        "download('https://raw.githubusercontent.com/AllenDowney/' +\n",
        "         'ModSimPy/master/modsim.py')"
      ],
      "metadata": {
        "id": "FYQozv7j_TRi",
        "outputId": "25c2e132-9f0c-4d18-f3aa-73103ef9d862",
        "colab": {
          "base_uri": "https://localhost:8080/"
        }
      },
      "execution_count": null,
      "outputs": [
        {
          "output_type": "stream",
          "name": "stdout",
          "text": [
            "Downloaded modsim.py\n"
          ]
        }
      ]
    },
    {
      "cell_type": "markdown",
      "metadata": {
        "id": "kWofhBYiYjlZ"
      },
      "source": [
        "First import the key libraries. When you use the `as` keyword, you are creating a shortcut so that you can reference functions from those libraries using the shorter name.\n",
        "\n",
        "* We need `numpy` to create the matrices and vectors.\n",
        "* We use the sublibrary `numpy.linalg` to do matrix operations.\n",
        "* We need `pandas` for its DataFrame capabilities.\n",
        "* We need `pyplot` to make beautiful graphics."
      ]
    },
    {
      "cell_type": "code",
      "execution_count": null,
      "metadata": {
        "id": "iHNPSKmsYm1i"
      },
      "outputs": [],
      "source": [
        "import numpy as np\n",
        "from numpy import linalg as LA\n",
        "import pandas as pd\n",
        "import matplotlib.pyplot as plt"
      ]
    },
    {
      "cell_type": "code",
      "execution_count": null,
      "metadata": {
        "id": "qDi9zSEmuhMv"
      },
      "outputs": [],
      "source": [
        "# Import Functions from modsim and pandas\n",
        "\n",
        "from modsim import *\n",
        "from pandas import read_html\n",
        "from pandas import read_csv"
      ]
    },
    {
      "cell_type": "markdown",
      "metadata": {
        "id": "_QZiBRlGu9Mj"
      },
      "source": [
        "###Downloading Data\n"
      ]
    },
    {
      "cell_type": "code",
      "execution_count": null,
      "metadata": {
        "id": "OA5I9U35vBSe",
        "colab": {
          "base_uri": "https://localhost:8080/",
          "height": 1000
        },
        "outputId": "8a124237-c7d2-4ed1-d798-3d72c382d4c8"
      },
      "outputs": [
        {
          "output_type": "execute_result",
          "data": {
            "text/plain": [
              "                Rain_Percent  Cloud_Percent  Sunny_Percent\n",
              "Date                                                      \n",
              "April 29, 2019            15             51             36\n",
              "April 30, 2019             0             67             67\n",
              "May 01, 2019              23             73             50\n",
              "May 02, 2019             100             37             14\n",
              "May 03, 2019              57             87             30\n",
              "May 04, 2019              28             84             56\n",
              "May 05, 2019             100            100              0\n",
              "May 06, 2019              50             56              6\n",
              "April 29, 2020            72             62             10\n",
              "April 30, 2020            72            100             28\n",
              "May 01, 2020             100             75             25\n",
              "May 02, 2020               0            100              0\n",
              "May 03, 2020              70             54             16\n",
              "May 04, 2020              23             45             22\n",
              "May 05, 2020               0             22             22\n",
              "May 06, 2020              50             53              3\n",
              "April 29, 2021            61             69              8\n",
              "April 30, 2021            61             60              1\n",
              "May 01, 2021              45             48              3\n",
              "May 02, 2021              56             83             27\n",
              "May 03, 2021              55             82             27\n",
              "May 04, 2021              59             73             14\n",
              "May 05, 2021              72            100             28\n",
              "May 06, 2021               0             53             53\n",
              "April 29, 2022             0              4             96\n",
              "April 30, 2022             0             18             82\n",
              "May 01, 2022               0             41             59\n",
              "May 02, 2022              28             89             61\n",
              "May 03, 2022               0             79             21\n",
              "May 04, 2022               0            100              0\n",
              "May 05, 2022               0             42             58\n",
              "May 06, 2022              88             77             23"
            ],
            "text/html": [
              "\n",
              "  <div id=\"df-0ebf83ed-5a4d-4356-b2c5-f3808c907b67\">\n",
              "    <div class=\"colab-df-container\">\n",
              "      <div>\n",
              "<style scoped>\n",
              "    .dataframe tbody tr th:only-of-type {\n",
              "        vertical-align: middle;\n",
              "    }\n",
              "\n",
              "    .dataframe tbody tr th {\n",
              "        vertical-align: top;\n",
              "    }\n",
              "\n",
              "    .dataframe thead th {\n",
              "        text-align: right;\n",
              "    }\n",
              "</style>\n",
              "<table border=\"1\" class=\"dataframe\">\n",
              "  <thead>\n",
              "    <tr style=\"text-align: right;\">\n",
              "      <th></th>\n",
              "      <th>Rain_Percent</th>\n",
              "      <th>Cloud_Percent</th>\n",
              "      <th>Sunny_Percent</th>\n",
              "    </tr>\n",
              "    <tr>\n",
              "      <th>Date</th>\n",
              "      <th></th>\n",
              "      <th></th>\n",
              "      <th></th>\n",
              "    </tr>\n",
              "  </thead>\n",
              "  <tbody>\n",
              "    <tr>\n",
              "      <th>April 29, 2019</th>\n",
              "      <td>15</td>\n",
              "      <td>51</td>\n",
              "      <td>36</td>\n",
              "    </tr>\n",
              "    <tr>\n",
              "      <th>April 30, 2019</th>\n",
              "      <td>0</td>\n",
              "      <td>67</td>\n",
              "      <td>67</td>\n",
              "    </tr>\n",
              "    <tr>\n",
              "      <th>May 01, 2019</th>\n",
              "      <td>23</td>\n",
              "      <td>73</td>\n",
              "      <td>50</td>\n",
              "    </tr>\n",
              "    <tr>\n",
              "      <th>May 02, 2019</th>\n",
              "      <td>100</td>\n",
              "      <td>37</td>\n",
              "      <td>14</td>\n",
              "    </tr>\n",
              "    <tr>\n",
              "      <th>May 03, 2019</th>\n",
              "      <td>57</td>\n",
              "      <td>87</td>\n",
              "      <td>30</td>\n",
              "    </tr>\n",
              "    <tr>\n",
              "      <th>May 04, 2019</th>\n",
              "      <td>28</td>\n",
              "      <td>84</td>\n",
              "      <td>56</td>\n",
              "    </tr>\n",
              "    <tr>\n",
              "      <th>May 05, 2019</th>\n",
              "      <td>100</td>\n",
              "      <td>100</td>\n",
              "      <td>0</td>\n",
              "    </tr>\n",
              "    <tr>\n",
              "      <th>May 06, 2019</th>\n",
              "      <td>50</td>\n",
              "      <td>56</td>\n",
              "      <td>6</td>\n",
              "    </tr>\n",
              "    <tr>\n",
              "      <th>April 29, 2020</th>\n",
              "      <td>72</td>\n",
              "      <td>62</td>\n",
              "      <td>10</td>\n",
              "    </tr>\n",
              "    <tr>\n",
              "      <th>April 30, 2020</th>\n",
              "      <td>72</td>\n",
              "      <td>100</td>\n",
              "      <td>28</td>\n",
              "    </tr>\n",
              "    <tr>\n",
              "      <th>May 01, 2020</th>\n",
              "      <td>100</td>\n",
              "      <td>75</td>\n",
              "      <td>25</td>\n",
              "    </tr>\n",
              "    <tr>\n",
              "      <th>May 02, 2020</th>\n",
              "      <td>0</td>\n",
              "      <td>100</td>\n",
              "      <td>0</td>\n",
              "    </tr>\n",
              "    <tr>\n",
              "      <th>May 03, 2020</th>\n",
              "      <td>70</td>\n",
              "      <td>54</td>\n",
              "      <td>16</td>\n",
              "    </tr>\n",
              "    <tr>\n",
              "      <th>May 04, 2020</th>\n",
              "      <td>23</td>\n",
              "      <td>45</td>\n",
              "      <td>22</td>\n",
              "    </tr>\n",
              "    <tr>\n",
              "      <th>May 05, 2020</th>\n",
              "      <td>0</td>\n",
              "      <td>22</td>\n",
              "      <td>22</td>\n",
              "    </tr>\n",
              "    <tr>\n",
              "      <th>May 06, 2020</th>\n",
              "      <td>50</td>\n",
              "      <td>53</td>\n",
              "      <td>3</td>\n",
              "    </tr>\n",
              "    <tr>\n",
              "      <th>April 29, 2021</th>\n",
              "      <td>61</td>\n",
              "      <td>69</td>\n",
              "      <td>8</td>\n",
              "    </tr>\n",
              "    <tr>\n",
              "      <th>April 30, 2021</th>\n",
              "      <td>61</td>\n",
              "      <td>60</td>\n",
              "      <td>1</td>\n",
              "    </tr>\n",
              "    <tr>\n",
              "      <th>May 01, 2021</th>\n",
              "      <td>45</td>\n",
              "      <td>48</td>\n",
              "      <td>3</td>\n",
              "    </tr>\n",
              "    <tr>\n",
              "      <th>May 02, 2021</th>\n",
              "      <td>56</td>\n",
              "      <td>83</td>\n",
              "      <td>27</td>\n",
              "    </tr>\n",
              "    <tr>\n",
              "      <th>May 03, 2021</th>\n",
              "      <td>55</td>\n",
              "      <td>82</td>\n",
              "      <td>27</td>\n",
              "    </tr>\n",
              "    <tr>\n",
              "      <th>May 04, 2021</th>\n",
              "      <td>59</td>\n",
              "      <td>73</td>\n",
              "      <td>14</td>\n",
              "    </tr>\n",
              "    <tr>\n",
              "      <th>May 05, 2021</th>\n",
              "      <td>72</td>\n",
              "      <td>100</td>\n",
              "      <td>28</td>\n",
              "    </tr>\n",
              "    <tr>\n",
              "      <th>May 06, 2021</th>\n",
              "      <td>0</td>\n",
              "      <td>53</td>\n",
              "      <td>53</td>\n",
              "    </tr>\n",
              "    <tr>\n",
              "      <th>April 29, 2022</th>\n",
              "      <td>0</td>\n",
              "      <td>4</td>\n",
              "      <td>96</td>\n",
              "    </tr>\n",
              "    <tr>\n",
              "      <th>April 30, 2022</th>\n",
              "      <td>0</td>\n",
              "      <td>18</td>\n",
              "      <td>82</td>\n",
              "    </tr>\n",
              "    <tr>\n",
              "      <th>May 01, 2022</th>\n",
              "      <td>0</td>\n",
              "      <td>41</td>\n",
              "      <td>59</td>\n",
              "    </tr>\n",
              "    <tr>\n",
              "      <th>May 02, 2022</th>\n",
              "      <td>28</td>\n",
              "      <td>89</td>\n",
              "      <td>61</td>\n",
              "    </tr>\n",
              "    <tr>\n",
              "      <th>May 03, 2022</th>\n",
              "      <td>0</td>\n",
              "      <td>79</td>\n",
              "      <td>21</td>\n",
              "    </tr>\n",
              "    <tr>\n",
              "      <th>May 04, 2022</th>\n",
              "      <td>0</td>\n",
              "      <td>100</td>\n",
              "      <td>0</td>\n",
              "    </tr>\n",
              "    <tr>\n",
              "      <th>May 05, 2022</th>\n",
              "      <td>0</td>\n",
              "      <td>42</td>\n",
              "      <td>58</td>\n",
              "    </tr>\n",
              "    <tr>\n",
              "      <th>May 06, 2022</th>\n",
              "      <td>88</td>\n",
              "      <td>77</td>\n",
              "      <td>23</td>\n",
              "    </tr>\n",
              "  </tbody>\n",
              "</table>\n",
              "</div>\n",
              "      <button class=\"colab-df-convert\" onclick=\"convertToInteractive('df-0ebf83ed-5a4d-4356-b2c5-f3808c907b67')\"\n",
              "              title=\"Convert this dataframe to an interactive table.\"\n",
              "              style=\"display:none;\">\n",
              "        \n",
              "  <svg xmlns=\"http://www.w3.org/2000/svg\" height=\"24px\"viewBox=\"0 0 24 24\"\n",
              "       width=\"24px\">\n",
              "    <path d=\"M0 0h24v24H0V0z\" fill=\"none\"/>\n",
              "    <path d=\"M18.56 5.44l.94 2.06.94-2.06 2.06-.94-2.06-.94-.94-2.06-.94 2.06-2.06.94zm-11 1L8.5 8.5l.94-2.06 2.06-.94-2.06-.94L8.5 2.5l-.94 2.06-2.06.94zm10 10l.94 2.06.94-2.06 2.06-.94-2.06-.94-.94-2.06-.94 2.06-2.06.94z\"/><path d=\"M17.41 7.96l-1.37-1.37c-.4-.4-.92-.59-1.43-.59-.52 0-1.04.2-1.43.59L10.3 9.45l-7.72 7.72c-.78.78-.78 2.05 0 2.83L4 21.41c.39.39.9.59 1.41.59.51 0 1.02-.2 1.41-.59l7.78-7.78 2.81-2.81c.8-.78.8-2.07 0-2.86zM5.41 20L4 18.59l7.72-7.72 1.47 1.35L5.41 20z\"/>\n",
              "  </svg>\n",
              "      </button>\n",
              "      \n",
              "  <style>\n",
              "    .colab-df-container {\n",
              "      display:flex;\n",
              "      flex-wrap:wrap;\n",
              "      gap: 12px;\n",
              "    }\n",
              "\n",
              "    .colab-df-convert {\n",
              "      background-color: #E8F0FE;\n",
              "      border: none;\n",
              "      border-radius: 50%;\n",
              "      cursor: pointer;\n",
              "      display: none;\n",
              "      fill: #1967D2;\n",
              "      height: 32px;\n",
              "      padding: 0 0 0 0;\n",
              "      width: 32px;\n",
              "    }\n",
              "\n",
              "    .colab-df-convert:hover {\n",
              "      background-color: #E2EBFA;\n",
              "      box-shadow: 0px 1px 2px rgba(60, 64, 67, 0.3), 0px 1px 3px 1px rgba(60, 64, 67, 0.15);\n",
              "      fill: #174EA6;\n",
              "    }\n",
              "\n",
              "    [theme=dark] .colab-df-convert {\n",
              "      background-color: #3B4455;\n",
              "      fill: #D2E3FC;\n",
              "    }\n",
              "\n",
              "    [theme=dark] .colab-df-convert:hover {\n",
              "      background-color: #434B5C;\n",
              "      box-shadow: 0px 1px 3px 1px rgba(0, 0, 0, 0.15);\n",
              "      filter: drop-shadow(0px 1px 2px rgba(0, 0, 0, 0.3));\n",
              "      fill: #FFFFFF;\n",
              "    }\n",
              "  </style>\n",
              "\n",
              "      <script>\n",
              "        const buttonEl =\n",
              "          document.querySelector('#df-0ebf83ed-5a4d-4356-b2c5-f3808c907b67 button.colab-df-convert');\n",
              "        buttonEl.style.display =\n",
              "          google.colab.kernel.accessAllowed ? 'block' : 'none';\n",
              "\n",
              "        async function convertToInteractive(key) {\n",
              "          const element = document.querySelector('#df-0ebf83ed-5a4d-4356-b2c5-f3808c907b67');\n",
              "          const dataTable =\n",
              "            await google.colab.kernel.invokeFunction('convertToInteractive',\n",
              "                                                     [key], {});\n",
              "          if (!dataTable) return;\n",
              "\n",
              "          const docLinkHtml = 'Like what you see? Visit the ' +\n",
              "            '<a target=\"_blank\" href=https://colab.research.google.com/notebooks/data_table.ipynb>data table notebook</a>'\n",
              "            + ' to learn more about interactive tables.';\n",
              "          element.innerHTML = '';\n",
              "          dataTable['output_type'] = 'display_data';\n",
              "          await google.colab.output.renderOutput(dataTable, element);\n",
              "          const docLink = document.createElement('div');\n",
              "          docLink.innerHTML = docLinkHtml;\n",
              "          element.appendChild(docLink);\n",
              "        }\n",
              "      </script>\n",
              "    </div>\n",
              "  </div>\n",
              "  "
            ]
          },
          "metadata": {},
          "execution_count": 5
        }
      ],
      "source": [
        "# reading the csv dataset from GitHub in Pandas \n",
        "# original data from \"https://onlinelibrary.wiley.com/doi/10.1111/ecog.05553\"\n",
        "\n",
        "import pandas as pd \n",
        "\n",
        "WeatherData = 'https://raw.githubusercontent.com/Nandan01/WeatherData/main/WeatherData.csv' \n",
        "df = pd.read_csv(WeatherData, index_col=0)\n",
        "\n",
        "df"
      ]
    },
    {
      "cell_type": "markdown",
      "source": [
        "Read in the 'WeatherData' and change the column headings to have shorter, simpler names."
      ],
      "metadata": {
        "id": "s2aJ_rSLRxp3"
      }
    },
    {
      "cell_type": "code",
      "source": [
        "tables = pd.read_csv(WeatherData, header=0, index_col=0)\n",
        "tables.columns = ['Rainy','Cloudy', 'Sunny' ]\n",
        "tables['Rainy']= pd.to_numeric(tables['Rainy'])"
      ],
      "metadata": {
        "id": "5FJIZz4U0VV7"
      },
      "execution_count": null,
      "outputs": []
    },
    {
      "cell_type": "code",
      "source": [
        "#convert the 'Rainy', 'Cloudy', and 'Sunny' percent values to numeric values to prevent \n",
        "r = tables.Rainy.values\n",
        "c = tables.Cloudy.values\n",
        "s = tables.Sunny.values\n",
        "\n",
        "#r.sort()\n",
        "#c.sort()\n",
        "#s.sort()\n",
        "print(tables)"
      ],
      "metadata": {
        "id": "Rk6miZAX0zZC",
        "colab": {
          "base_uri": "https://localhost:8080/"
        },
        "outputId": "bba24b96-a181-4d66-8aa6-a834988fbf52"
      },
      "execution_count": null,
      "outputs": [
        {
          "output_type": "stream",
          "name": "stdout",
          "text": [
            "                Rainy  Cloudy  Sunny\n",
            "Date                                \n",
            "April 29, 2019     15      51     36\n",
            "April 30, 2019      0      67     67\n",
            "May 01, 2019       23      73     50\n",
            "May 02, 2019      100      37     14\n",
            "May 03, 2019       57      87     30\n",
            "May 04, 2019       28      84     56\n",
            "May 05, 2019      100     100      0\n",
            "May 06, 2019       50      56      6\n",
            "April 29, 2020     72      62     10\n",
            "April 30, 2020     72     100     28\n",
            "May 01, 2020      100      75     25\n",
            "May 02, 2020        0     100      0\n",
            "May 03, 2020       70      54     16\n",
            "May 04, 2020       23      45     22\n",
            "May 05, 2020        0      22     22\n",
            "May 06, 2020       50      53      3\n",
            "April 29, 2021     61      69      8\n",
            "April 30, 2021     61      60      1\n",
            "May 01, 2021       45      48      3\n",
            "May 02, 2021       56      83     27\n",
            "May 03, 2021       55      82     27\n",
            "May 04, 2021       59      73     14\n",
            "May 05, 2021       72     100     28\n",
            "May 06, 2021        0      53     53\n",
            "April 29, 2022      0       4     96\n",
            "April 30, 2022      0      18     82\n",
            "May 01, 2022        0      41     59\n",
            "May 02, 2022       28      89     61\n",
            "May 03, 2022        0      79     21\n",
            "May 04, 2022        0     100      0\n",
            "May 05, 2022        0      42     58\n",
            "May 06, 2022       88      77     23\n"
          ]
        }
      ]
    },
    {
      "cell_type": "markdown",
      "metadata": {
        "id": "2-u3uuxSvhzH"
      },
      "source": [
        "## Historical Data Visualization"
      ]
    },
    {
      "cell_type": "markdown",
      "source": [
        "### Historical Bar Graphs\n",
        "\n",
        "Going to be used to compare graphs produced from the simulation and evaluate if our simulation models the real-world situation"
      ],
      "metadata": {
        "id": "hobh61B7FD8z"
      }
    },
    {
      "cell_type": "markdown",
      "source": [
        "Use the python iloc() function to select particular rows of the dataset and represent them in the form of a bar graph"
      ],
      "metadata": {
        "id": "AmgbYbzQ4q6Y"
      }
    },
    {
      "cell_type": "code",
      "source": [
        "#plot a bar graph for the 2019 Data \n",
        "def plot_estimates():\n",
        "    tables.iloc[0:8].plot(kind = 'bar')\n",
        "    decorate(xlabel='2019 Dates', \n",
        "             ylabel='# of occurences') "
      ],
      "metadata": {
        "id": "NzQjeEyNaroJ"
      },
      "execution_count": null,
      "outputs": []
    },
    {
      "cell_type": "markdown",
      "source": [
        "The following bar graph figure plots the `2019 Historical Weather Condition Occurences`"
      ],
      "metadata": {
        "id": "MpFYpu_BE9tT"
      }
    },
    {
      "cell_type": "code",
      "source": [
        "plot_estimates()\n",
        "decorate(title='2019 Historical Weather Condition Occurences')"
      ],
      "metadata": {
        "colab": {
          "base_uri": "https://localhost:8080/",
          "height": 297
        },
        "id": "-Q7B3--vbpWe",
        "outputId": "e768d2ee-f63b-41f5-897b-04c2370239b6"
      },
      "execution_count": null,
      "outputs": [
        {
          "output_type": "display_data",
          "data": {
            "text/plain": [
              "<Figure size 432x288 with 1 Axes>"
            ],
            "image/png": "[encoded data removed]"
          },
          "metadata": {
            "needs_background": "light"
          }
        }
      ]
    },
    {
      "cell_type": "code",
      "source": [
        "#plot the graph for the 2022 Data\n",
        "def plot_estimates1():\n",
        "    tables.iloc[25:32].plot(kind = 'bar')\n",
        "    decorate(xlabel='2022 Dates', \n",
        "             ylabel='# of occurences') "
      ],
      "metadata": {
        "id": "gmlDu5u5rtXl"
      },
      "execution_count": null,
      "outputs": []
    },
    {
      "cell_type": "markdown",
      "source": [
        "The following bar graph figure plots the `2022 Historical Weather Condition Occurences`. Notice how some of the days have multiple bars. This shows how the weather percentages for one day can overlap one another. In other words, it can be rainy, sunny, and cloudy all in one day. "
      ],
      "metadata": {
        "id": "6LEaFH1DAtTq"
      }
    },
    {
      "cell_type": "code",
      "source": [
        "plot_estimates1()\n",
        "decorate(title='2022 Historical Weather Condition Occurences')"
      ],
      "metadata": {
        "colab": {
          "base_uri": "https://localhost:8080/",
          "height": 297
        },
        "id": "ts2WshPRrxvQ",
        "outputId": "ce81f432-01f7-4b66-982a-a499bdf4a5fe"
      },
      "execution_count": null,
      "outputs": [
        {
          "output_type": "display_data",
          "data": {
            "text/plain": [
              "<Figure size 432x288 with 1 Axes>"
            ],
            "image/png": "[encoded data removed]"
          },
          "metadata": {
            "needs_background": "light"
          }
        }
      ]
    },
    {
      "cell_type": "markdown",
      "metadata": {
        "id": "D7DKyWs9vtJg"
      },
      "source": [
        "## Markov Chain in Python"
      ]
    },
    {
      "cell_type": "markdown",
      "source": [
        "Import `random` to generate a random initial state "
      ],
      "metadata": {
        "id": "yZev9nCyP0me"
      }
    },
    {
      "cell_type": "code",
      "execution_count": null,
      "metadata": {
        "id": "OkNuNI5Evlar"
      },
      "outputs": [],
      "source": [
        "import random"
      ]
    },
    {
      "cell_type": "markdown",
      "source": [
        "### Defining States "
      ],
      "metadata": {
        "id": "QVIJidE4ESWp"
      }
    },
    {
      "cell_type": "code",
      "execution_count": null,
      "metadata": {
        "id": "SEytzQ-Yv-QU"
      },
      "outputs": [],
      "source": [
        "# Define the 3 states\n",
        "states = [\"Rainy\", \"Cloudy\", \"Sunny\"]"
      ]
    },
    {
      "cell_type": "code",
      "execution_count": null,
      "metadata": {
        "id": "qnPUdWEqWClg",
        "colab": {
          "base_uri": "https://localhost:8080/",
          "height": 35
        },
        "outputId": "c98af557-b542-4137-d7a1-3257abb6c9c4"
      },
      "outputs": [
        {
          "output_type": "execute_result",
          "data": {
            "text/plain": [
              "'Cloudy'"
            ],
            "application/vnd.google.colaboratory.intrinsic+json": {
              "type": "string"
            }
          },
          "metadata": {},
          "execution_count": 14
        }
      ],
      "source": [
        "random.choice(states)"
      ]
    },
    {
      "cell_type": "markdown",
      "source": [
        "### Transition Matrix"
      ],
      "metadata": {
        "id": "49aZM-XMEEsx"
      }
    },
    {
      "cell_type": "markdown",
      "source": [
        "Possible sequences of events that can occur "
      ],
      "metadata": {
        "id": "_gdjXVDoFWqo"
      }
    },
    {
      "cell_type": "code",
      "execution_count": null,
      "metadata": {
        "id": "3sJ0ZYM8394E"
      },
      "outputs": [],
      "source": [
        "# RaRa = 'Rainy -> Rainy' | RaCl = 'Rainy -> Cloud' | RaSu = 'Rainy -> Sunny'\n",
        "# ClRa = 'Cloudy -> Rainy' | ClCl = 'Cloudy -> Cloud' | ClSu = 'Cloudy -> Sunny'\n",
        "# SuRa = 'Sunny -> Rainy' | SuCl = 'Sunny -> Cloud' | SuSu = 'Sunny -> Sunny'\n",
        "\n",
        "transitionName = [[\"RaRa\",\"RaCl\", \"RaSu\"],[\"ClRa\",\"ClCl\", \"ClSu\"], [\"SuRa\", \"SuCl\", \"SuSu\"]]"
      ]
    },
    {
      "cell_type": "markdown",
      "source": [
        "Use historical dataset to calculate the transition matrix probailites "
      ],
      "metadata": {
        "id": "QvlcNrvTJXU2"
      }
    },
    {
      "cell_type": "code",
      "execution_count": null,
      "metadata": {
        "id": "xaMjgP-T6NaF"
      },
      "outputs": [],
      "source": [
        "# Probabilities matrix (transition matrix)\n",
        "transitionMatrix = [[.1, .4, .5],[.3, .4, .3],[.6, .2, .2]]"
      ]
    },
    {
      "cell_type": "code",
      "execution_count": null,
      "metadata": {
        "id": "jXi0D3bVXBMg",
        "colab": {
          "base_uri": "https://localhost:8080/",
          "height": 35
        },
        "outputId": "20594773-3254-44e7-c0ed-72c9e1f3c8cc"
      },
      "outputs": [
        {
          "output_type": "execute_result",
          "data": {
            "text/plain": [
              "'RaRa'"
            ],
            "application/vnd.google.colaboratory.intrinsic+json": {
              "type": "string"
            }
          },
          "metadata": {},
          "execution_count": 17
        }
      ],
      "source": [
        "random.choices(transitionName[0],weights=transitionMatrix[0])[0]"
      ]
    },
    {
      "cell_type": "code",
      "execution_count": null,
      "metadata": {
        "id": "BKnn8ABfYWy0",
        "colab": {
          "base_uri": "https://localhost:8080/",
          "height": 35
        },
        "outputId": "375bf51d-59c5-41d6-c486-aacfcab7b031"
      },
      "outputs": [
        {
          "output_type": "execute_result",
          "data": {
            "text/plain": [
              "'ClCl'"
            ],
            "application/vnd.google.colaboratory.intrinsic+json": {
              "type": "string"
            }
          },
          "metadata": {},
          "execution_count": 18
        }
      ],
      "source": [
        "random.choices(transitionName[1],weights=transitionMatrix[1])[0]"
      ]
    },
    {
      "cell_type": "code",
      "execution_count": null,
      "metadata": {
        "id": "f7K2zxIVYfBt",
        "colab": {
          "base_uri": "https://localhost:8080/",
          "height": 35
        },
        "outputId": "190e5e20-7a21-4593-fa4a-5032782643b8"
      },
      "outputs": [
        {
          "output_type": "execute_result",
          "data": {
            "text/plain": [
              "'SuRa'"
            ],
            "application/vnd.google.colaboratory.intrinsic+json": {
              "type": "string"
            }
          },
          "metadata": {},
          "execution_count": 19
        }
      ],
      "source": [
        "random.choices(transitionName[2],weights=transitionMatrix[2])[0]"
      ]
    },
    {
      "cell_type": "markdown",
      "metadata": {
        "id": "2CwU-MrCwA6O"
      },
      "source": [
        "### Simulation for what the next 30 days will be"
      ]
    },
    {
      "cell_type": "markdown",
      "source": [
        "Define `weatherForecast` to take in days as the parameter"
      ],
      "metadata": {
        "id": "r70b_Z06R47J"
      }
    },
    {
      "cell_type": "code",
      "execution_count": null,
      "metadata": {
        "id": "Cfj3Ins96s_7"
      },
      "outputs": [],
      "source": [
        "# A functions which implements the Markov model to forecast the weather\n",
        "\n",
        "def weatherForecast(days):\n",
        "    cloudyDays = 0\n",
        "    sunnyDays = 0\n",
        "    rainyDays = 0\n",
        "    rain_rain = 0\n",
        "    rain_cloud = 0\n",
        "    rain_sun = 0\n",
        "    cloud_rain = 0\n",
        "    cloud_cloud = 0\n",
        "    cloud_sun = 0\n",
        "    sun_rain = 0\n",
        "    sun_cloud = 0\n",
        "    sun_sun = 0\n",
        "   \n",
        "    # Sets random probabilities for the states\n",
        "    weatherToday = random.choice(states) \n",
        "    # Initializes change(the weather transition for tomorrow) and `i` for these values to be stored during the loop\n",
        "    # Want to present the weather after day 8 since that will be the future weather \n",
        "    i = 8\n",
        "\n",
        "    print(\"Starting weather: \",weatherToday)\n",
        "    # Creates a while loop to predict the weather for the desired amount of days, in this case when it is greater than day 8 \n",
        "    while i < days: \n",
        "\n",
        "# Depending on what it randomly chooses to start with, that is where the while loop will begin by comparing the weatherToday string\n",
        "        \n",
        "        # If the weather today is 'Rainy' increment the bar for rainy by 1\n",
        "        if weatherToday == \"Rainy\":\n",
        "            rainyDays +=1\n",
        "            print(\"Day\",i+1, \": \\n Today is Rainy\")\n",
        "\n",
        "            # Randomly choose what the weather will be tomorrow based on the transition matrix probabilities\n",
        "            change = random.choices(transitionName[0],weights=transitionMatrix[0])[0]\n",
        "            if change == \"RaRa\":\n",
        "              print(\" Tomorrow is Rainy\")\n",
        "              rain_rain += 1\n",
        "              # Changes the starting weather for today from 'change'\n",
        "              # This is so that for the next day that is ran, the starting weather will be the previous day's predicted weather \n",
        "              weatherToday = \"Rainy\"\n",
        "            elif change == \"RaCl\" :\n",
        "              print(\" Tomorrow is Cloudy\")\n",
        "              weatherToday = \"Cloudy\"\n",
        "              rain_cloud += 1\n",
        "            else :\n",
        "              print(\" Tomorrow is Sunny\")\n",
        "              weatherToday = \"Sunny\"\n",
        "              rain_sun += 1\n",
        "\n",
        "        # Else if the weather today is 'Cloudy' increment the bar for cloudy by 1\n",
        "        elif weatherToday == \"Cloudy\":\n",
        "            cloudyDays +=1\n",
        "            print(\"Day\",i+1, \": \\n Today is Cloudy\")\n",
        "\n",
        "            # Randomly choose what the weather will be tomorrow based on the transition matrix probabilities\n",
        "            change = random.choices(transitionName[1],weights=transitionMatrix[1])[0]\n",
        "            if change == \"ClRa\":\n",
        "              print(\" Tomorrow is Rainy\")\n",
        "              weatherToday = \"Rainy\"\n",
        "              cloud_rain += 1\n",
        "            elif change == \"ClCl\" :\n",
        "              print(\" Tomorrow is Cloudy\")\n",
        "              weatherToday = \"Cloudy\"\n",
        "              cloud_cloud += 1\n",
        "            else :\n",
        "              print(\" Tomorrow is Sunny\")\n",
        "              weatherToday = \"Sunny\"\n",
        "              cloud_sun += 1\n",
        "\n",
        "        # Else if the weather today is 'Sunny' increment the bar for sunny by 1\n",
        "        elif weatherToday == \"Sunny\":\n",
        "            sunnyDays +=1\n",
        "            print(\"Day\",i+1, \": \\n Today is Sunny\")\n",
        "            change = random.choices(transitionName[2],weights=transitionMatrix[2])[0]\n",
        "            if change == \"SuRa\":\n",
        "              print(\" Tomorrow is Rainy\")\n",
        "              weatherToday = \"Rainy\"\n",
        "              sun_rain += 1\n",
        "            elif change == \"SuCl\" :\n",
        "              print(\" Tomorrow is Cloudy\")\n",
        "              weatherToday = \"Cloudy\" \n",
        "              sun_cloud += 1   \n",
        "            else :\n",
        "              print(\" Tomorrow is Sunny\")\n",
        "              weatherToday = \"Sunny\"\n",
        "              sun_sun += 1\n",
        "\n",
        "\n",
        "   \n",
        "        # Increment i to run to the next day\n",
        "        i += 1\n",
        "\n",
        "    totalDays = cloudyDays + sunnyDays + rainyDays\n",
        "    print(\"\\nTotal count of recorded days : \" + str(totalDays) + \" \\n\")\n",
        "    print(\"   Sunny Days : \" + str(sunnyDays) +\", with average of : \"+ str((sunnyDays/totalDays)*100) +\"%\")\n",
        "    print(\"   Cloudy Days : \" + str(cloudyDays) +\", with average of : \"+ str((cloudyDays/totalDays)*100) +\"%\")\n",
        "    print(\"   Rainy Days : \" + str(rainyDays) +\", with average of : \"+ str((rainyDays/totalDays)*100) +\"%\")\n",
        "\n",
        "\n",
        "    # Plot the bar graph for the total number of weather condition occurences for after day 8 \n",
        "    fig = plt.figure()\n",
        "    ax = fig.add_axes([0,0,1,1])\n",
        "    weather_ = ['Sunny\\n'+str(sunnyDays), 'Cloudy\\n'+str(cloudyDays), 'Rainy\\n'+str(rainyDays)]\n",
        "    conditions = [sunnyDays,cloudyDays,rainyDays]\n",
        "    ax.bar(weather_,conditions, color=['yellow', 'gray', 'blue'])\n",
        "    ax.set_ylabel('# of occurances')\n",
        "    ax.set_xlabel('Weather Conditions')\n",
        "    ax.set_title('Total # of Weather Condition Occurances')\n",
        "    \n",
        "    plt.show()"
      ]
    },
    {
      "cell_type": "markdown",
      "source": [
        "The following bar graph figure plots the `Total # of Weather Condition Occurences`. Showcases the number of times `sunny`, `rainy`, and `cloudy` days occur after day 8. Used to compare the amount of weather condition occurences from historical data. "
      ],
      "metadata": {
        "id": "gWM322wrP81C"
      }
    },
    {
      "cell_type": "code",
      "execution_count": null,
      "metadata": {
        "id": "HmEhDXTPwWiR",
        "colab": {
          "base_uri": "https://localhost:8080/",
          "height": 1000
        },
        "outputId": "fde06e39-79eb-4dbd-85b8-19362630304a"
      },
      "outputs": [
        {
          "output_type": "stream",
          "name": "stdout",
          "text": [
            "Starting weather:  Rainy\n",
            "Day 9 : \n",
            " Today is Rainy\n",
            " Tomorrow is Cloudy\n",
            "Day 10 : \n",
            " Today is Cloudy\n",
            " Tomorrow is Rainy\n",
            "Day 11 : \n",
            " Today is Rainy\n",
            " Tomorrow is Cloudy\n",
            "Day 12 : \n",
            " Today is Cloudy\n",
            " Tomorrow is Rainy\n",
            "Day 13 : \n",
            " Today is Rainy\n",
            " Tomorrow is Rainy\n",
            "Day 14 : \n",
            " Today is Rainy\n",
            " Tomorrow is Cloudy\n",
            "Day 15 : \n",
            " Today is Cloudy\n",
            " Tomorrow is Rainy\n",
            "Day 16 : \n",
            " Today is Rainy\n",
            " Tomorrow is Cloudy\n",
            "Day 17 : \n",
            " Today is Cloudy\n",
            " Tomorrow is Cloudy\n",
            "Day 18 : \n",
            " Today is Cloudy\n",
            " Tomorrow is Cloudy\n",
            "Day 19 : \n",
            " Today is Cloudy\n",
            " Tomorrow is Cloudy\n",
            "Day 20 : \n",
            " Today is Cloudy\n",
            " Tomorrow is Sunny\n",
            "Day 21 : \n",
            " Today is Sunny\n",
            " Tomorrow is Rainy\n",
            "Day 22 : \n",
            " Today is Rainy\n",
            " Tomorrow is Sunny\n",
            "Day 23 : \n",
            " Today is Sunny\n",
            " Tomorrow is Rainy\n",
            "Day 24 : \n",
            " Today is Rainy\n",
            " Tomorrow is Sunny\n",
            "Day 25 : \n",
            " Today is Sunny\n",
            " Tomorrow is Rainy\n",
            "Day 26 : \n",
            " Today is Rainy\n",
            " Tomorrow is Cloudy\n",
            "Day 27 : \n",
            " Today is Cloudy\n",
            " Tomorrow is Cloudy\n",
            "Day 28 : \n",
            " Today is Cloudy\n",
            " Tomorrow is Cloudy\n",
            "Day 29 : \n",
            " Today is Cloudy\n",
            " Tomorrow is Cloudy\n",
            "Day 30 : \n",
            " Today is Cloudy\n",
            " Tomorrow is Sunny\n",
            "\n",
            "Total count of recorded days : 22 \n",
            "\n",
            "   Sunny Days : 3, with average of : 13.636363636363635%\n",
            "   Cloudy Days : 11, with average of : 50.0%\n",
            "   Rainy Days : 8, with average of : 36.36363636363637%\n"
          ]
        },
        {
          "output_type": "display_data",
          "data": {
            "text/plain": [
              "<Figure size 432x288 with 1 Axes>"
            ],
            "image/png": "[encoded data removed]"
          },
          "metadata": {
            "needs_background": "light"
          }
        }
      ],
      "source": [
        "#How many days do you want to predict the weather for? 30 days\n",
        "weatherForecast(30)"
      ]
    }
  ],
  "metadata": {
    "colab": {
      "collapsed_sections": [],
      "name": "Project3 - Weather Forecast Model.ipynb",
      "provenance": []
    },
    "kernelspec": {
      "display_name": "Python 3",
      "name": "python3"
    },
    "language_info": {
      "name": "python"
    }
  },
  "nbformat": 4,
  "nbformat_minor": 0
}
